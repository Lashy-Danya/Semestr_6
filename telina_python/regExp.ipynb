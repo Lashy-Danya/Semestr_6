{
 "cells": [
  {
   "cell_type": "code",
   "execution_count": null,
   "metadata": {},
   "outputs": [],
   "source": [
    "'''\n",
    "Введите текст, содержащий точки '.' и символы ';'. Разбейте текст по этим символам и выведите получившиеся строки, используя регулярные выражения. Не забудьте поставить пробел после каждого разделителя в функции split().\n",
    "'''\n",
    "import re\n",
    "\n",
    "text = input()\n",
    "lines = re.split(\"[.;]\\s+\", text)\n",
    "\n",
    "for line in lines:\n",
    "    print(line)"
   ]
  },
  {
   "cell_type": "code",
   "execution_count": null,
   "metadata": {},
   "outputs": [],
   "source": [
    "'''\n",
    "Введите строку, содержащую дублирующие пробелы. Замените каждое вхождение повторяющихся пробелов символом '-' и выведите получившуюся строку, используя регулярные выражения.\n",
    "'''\n",
    "import re\n",
    "\n",
    "string = input()\n",
    "string = re.sub(\"\\s+\", \"-\", string)\n",
    "\n",
    "print(string)"
   ]
  },
  {
   "cell_type": "code",
   "execution_count": null,
   "metadata": {},
   "outputs": [],
   "source": [
    "'''\n",
    "Введите строку, содержащую URL сайта. Найдите в этой строке и выведите первое вхождение URL сайта с доменом первого уровня, используя регулярные выражения.\n",
    "\n",
    "P.S. URL - это адрес ресурса в сети Интернет. Например, http://do.novsu.ru\n",
    "\n",
    "    здесь http:// - протокол передачи данных\n",
    "    do.novsu.ru - доменное имя\n",
    "    ru - домен первого уровня\n",
    "\n",
    "'''\n",
    "import re\n",
    "\n",
    "string = input()\n",
    "string = re.search(\"(https?://)?([\\w-]+\\.)+[\\w]{2,}\", string)\n",
    "\n",
    "print(string.group(0))"
   ]
  },
  {
   "cell_type": "code",
   "execution_count": null,
   "metadata": {},
   "outputs": [],
   "source": [
    "'''\n",
    "Введите текст. Найдите в нем слова, заканчивающиеся на -ий, -ый.\n",
    "'''\n",
    "import re\n",
    "\n",
    "string = input()\n",
    "string = re.findall(r\"\\b\\w+[иы]й\\b\", string)\n",
    "\n",
    "print(string)"
   ]
  },
  {
   "cell_type": "code",
   "execution_count": null,
   "metadata": {},
   "outputs": [],
   "source": [
    "'''\n",
    "Введите строку. Если найдутся два одинаковых слова, идущие подряд, а между ними некоторое число пробелов, то вывести строку с одним таким словом.\n",
    "\n",
    "P.S. Игнорировать регистр символов\n",
    "'''\n",
    "import re\n",
    "\n",
    "s = input()\n",
    "pattern = r'\\b(\\w+)\\s+\\1\\b'\n",
    "matches = re.findall(pattern, s, re.IGNORECASE)\n",
    "for match in matches:\n",
    "    s = re.sub(r'\\b' + re.escape(match) + r'\\s+' + re.escape(match) + r'\\b', match, s, flags=re.IGNORECASE)\n",
    "\n",
    "print(s)"
   ]
  }
 ],
 "metadata": {
  "language_info": {
   "name": "python"
  },
  "orig_nbformat": 4
 },
 "nbformat": 4,
 "nbformat_minor": 2
}
