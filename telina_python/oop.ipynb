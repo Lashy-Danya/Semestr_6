{
 "cells": [
  {
   "cell_type": "code",
   "execution_count": 1,
   "metadata": {},
   "outputs": [],
   "source": [
    "\"\"\"\n",
    "Создайте класс, описывающий героев мультфильмов/фильмов/игр/книг. Класс должен иметь:\n",
    "\n",
    "    атрибут класса\n",
    "    атрибуты экземпляров, включая скрытую переменную (private)\n",
    "    метод экземпляра класса\n",
    "    статический метод\n",
    "    метод класса\n",
    "    специальные методы: __init__(), __del__(), __str__() и __repr__()\n",
    "\"\"\"\n",
    "class Hero:\n",
    "\n",
    "    __count_hero = 0\n",
    "\n",
    "    def __init__(self, name, age, gender):\n",
    "        self.name = name\n",
    "        self.age = age\n",
    "        self.gender = gender\n",
    "        self.__is_alive = True\n",
    "        Hero.__count_hero += 1\n",
    "\n",
    "    def speak(self, message):\n",
    "        print(f\"{self.name} говорит: {message}\")\n",
    "\n",
    "    @staticmethod\n",
    "    def get_count_hero():\n",
    "        return f\"Героев создано: {Hero.__count_hero}\"\n",
    "    \n",
    "    @classmethod\n",
    "    def create_hero(cls, name, age, gender):\n",
    "        return cls(name, age, gender)\n",
    "\n",
    "    def __del__(self):\n",
    "        Hero.__count_hero -= 1\n",
    "\n",
    "    def __str__(self):\n",
    "        return f\"Hero({self.name}, {self.age}, {self.gender})\"\n",
    "    \n",
    "    def __repr__(self):\n",
    "        return f\"Hero({self.__dict__})\""
   ]
  },
  {
   "cell_type": "code",
   "execution_count": 8,
   "metadata": {},
   "outputs": [
    {
     "name": "stdout",
     "output_type": "stream",
     "text": [
      "Lain говорит: Let`s all love Lain\n",
      "Hero(Lain, 14, female)\n",
      "героев создано: 1\n",
      "Hero(Rakka, 15, female)\n",
      "героев создано: 2\n",
      "героев создано: 1\n",
      "Hero({'name': 'Lain', 'age': 14, 'gender': 'female', '_Hero__is_alive': True})\n"
     ]
    }
   ],
   "source": [
    "if __name__ == '__main__':\n",
    "    lain = Hero(\"Lain\", 14, \"female\")\n",
    "\n",
    "    lain.speak(\"Let`s all love Lain\")\n",
    "\n",
    "    print(lain)\n",
    "\n",
    "    print(Hero.get_count_hero())\n",
    "\n",
    "    rakka = Hero.create_hero(\"Rakka\", 15, \"female\")\n",
    "\n",
    "    print(rakka)\n",
    "\n",
    "    print(Hero.get_count_hero())\n",
    "\n",
    "    del rakka\n",
    "    print(Hero.get_count_hero())\n",
    "\n",
    "    print(repr(lain))\n",
    "    del lain"
   ]
  }
 ],
 "metadata": {
  "kernelspec": {
   "display_name": "ml",
   "language": "python",
   "name": "python3"
  },
  "language_info": {
   "codemirror_mode": {
    "name": "ipython",
    "version": 3
   },
   "file_extension": ".py",
   "mimetype": "text/x-python",
   "name": "python",
   "nbconvert_exporter": "python",
   "pygments_lexer": "ipython3",
   "version": "3.10.6"
  },
  "orig_nbformat": 4
 },
 "nbformat": 4,
 "nbformat_minor": 2
}
