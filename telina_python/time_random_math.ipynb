{
 "cells": [
  {
   "cell_type": "code",
   "execution_count": 6,
   "metadata": {},
   "outputs": [
    {
     "name": "stdout",
     "output_type": "stream",
     "text": [
      "9.0\n"
     ]
    }
   ],
   "source": [
    "'''\n",
    "Введите две даты в формате ДД/ММ/ГГГГ и выведите количество полных дней между этими датами.\n",
    "'''\n",
    "import time\n",
    "import math\n",
    "\n",
    "# Введите две даты в формате ДД/ММ/ГГГГ\n",
    "date1 = input()\n",
    "date2 = input()\n",
    "\n",
    "# Преобразуем введенные даты в формат timestamp\n",
    "timestamp1 = time.mktime(time.strptime(date1, \"%d/%m/%Y\"))\n",
    "timestamp2 = time.mktime(time.strptime(date2, \"%d/%m/%Y\"))\n",
    "\n",
    "# Вычисляем количество секунд между датами\n",
    "seconds = abs(timestamp2 - timestamp1)\n",
    "\n",
    "# Количество секунд в одном дне\n",
    "seconds_per_day = 24 * 60 * 60\n",
    "\n",
    "# Вычисляем количество полных дней между датами\n",
    "# math.ceil так как первый тест воводит в результат 8.93 и так далее\n",
    "days = math.ceil(seconds / seconds_per_day)\n",
    "\n",
    "print(days)"
   ]
  },
  {
   "cell_type": "code",
   "execution_count": 9,
   "metadata": {},
   "outputs": [
    {
     "name": "stdout",
     "output_type": "stream",
     "text": [
      "4\n",
      "ПТ\n"
     ]
    }
   ],
   "source": [
    "'''\n",
    "Введите год и выведите день недели, на который приходится 31 декабря этого года, в формате: ПН/ВТ/СР/ЧТ/ПТ/СБ/ВС.\n",
    "'''\n",
    "\n",
    "import time\n",
    "\n",
    "days = [\"ПН\", \"ВТ\", \"СР\", \"ЧТ\", \"ПТ\", \"СБ\", \"ВС\"]\n",
    "\n",
    "year = int(input())\n",
    "\n",
    "# Создание объекта time.struct_time для 31 декабря заданного года\n",
    "dec31 = time.strptime(f\"31-12-{year}\", \"%d-%m-%Y\")\n",
    "\n",
    "# Получение дня недели в виде строки\n",
    "day_of_week = dec31.tm_wday\n",
    "\n",
    "print(days[day_of_week])"
   ]
  },
  {
   "cell_type": "code",
   "execution_count": null,
   "metadata": {},
   "outputs": [],
   "source": [
    "'''\n",
    "Напишите функцию gen_pass(seed), которая генерирует пароль из 6 символов, включая цифры и буквы английского алфавита в нижнем и верхнем регистре. Функция принимает параметр seed для инициализации генератора случайных чисел.\n",
    "\n",
    "Подсказка: для генерации каждого символа используйте функцию random.choice(lst), где lst = '0123456789abcdefghigklmnopqrstuvyxwzABCDEFGHIGKLMNOPQRSTUVYXWZ'\n",
    "'''\n",
    "import random\n",
    "\n",
    "def gen_pass(seed):\n",
    "    # Список символов, из которых будем выбирать\n",
    "    lst = '0123456789abcdefghigklmnopqrstuvyxwzABCDEFGHIGKLMNOPQRSTUVYXWZ'\n",
    "\n",
    "    random.seed(seed)\n",
    "\n",
    "    # password = ''\n",
    "    # for i in range(6):\n",
    "    #     password += random.choice(lst)\n",
    "\n",
    "    password = ''.join([random.choice(lst) for i in range(6)])\n",
    "\n",
    "    return password\n",
    "\n",
    "\n"
   ]
  },
  {
   "cell_type": "code",
   "execution_count": null,
   "metadata": {},
   "outputs": [],
   "source": [
    "'''\n",
    "Напишите функцию sum_log(n, seed), которая генерирует список вещественных чисел из диапазона от -10 до +10 в количестве n, считает логарифм по основанию 10 от каждого положительного числа и выдает сумму логарифмов с округлением вверх. Функция принимает параметр seed для инициализации генератора случайных чисел.\n",
    "\n",
    "Подсказка: для генерации чисел используйте функцию random.uniform().\n",
    "'''\n",
    "import random\n",
    "import math\n",
    "\n",
    "def sum_log(n, seed):\n",
    "\n",
    "    random.seed(seed)\n",
    "\n",
    "    # Генерируем список из n вещественных чисел в диапазоне [-10, 10]\n",
    "    nums = [random.uniform(-10, 10) for i in range(n)]\n",
    "\n",
    "    # Считаем логарифм по основанию 10 от каждого положительного числа\n",
    "    logs = [math.log10(num) for num in nums if num > 0]\n",
    "\n",
    "    # Вычисляем сумму логарифмов и округляем вверх\n",
    "    result = math.ceil(sum(logs))\n",
    "\n",
    "    return result"
   ]
  }
 ],
 "metadata": {
  "kernelspec": {
   "display_name": "ml",
   "language": "python",
   "name": "python3"
  },
  "language_info": {
   "codemirror_mode": {
    "name": "ipython",
    "version": 3
   },
   "file_extension": ".py",
   "mimetype": "text/x-python",
   "name": "python",
   "nbconvert_exporter": "python",
   "pygments_lexer": "ipython3",
   "version": "3.10.6"
  },
  "orig_nbformat": 4
 },
 "nbformat": 4,
 "nbformat_minor": 2
}
