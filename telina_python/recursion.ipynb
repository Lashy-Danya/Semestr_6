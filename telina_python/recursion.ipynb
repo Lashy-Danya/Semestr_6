{
 "cells": [
  {
   "cell_type": "code",
   "execution_count": null,
   "metadata": {},
   "outputs": [],
   "source": [
    "'''\n",
    "Напишите функцию sum_numbers(lst), которая рекурсивно складывает элементы списка.\n",
    "'''\n",
    "def sum_numbers(lst):\n",
    "    if not lst:\n",
    "        return 0\n",
    "    else:\n",
    "        return lst[0] + sum_numbers(lst[1:])"
   ]
  },
  {
   "cell_type": "code",
   "execution_count": null,
   "metadata": {},
   "outputs": [],
   "source": [
    "'''\n",
    "Напишите функцию sum_numbers(lst), которая рекурсивно складывает элементы списка с учетом вложенных списков.\n",
    "'''\n",
    "def sum_numbers(lst):\n",
    "    total_sum = 0\n",
    "    for elem in lst:\n",
    "        if isinstance(elem, list):\n",
    "            total_sum += sum_numbers(elem)\n",
    "        elif isinstance(elem, int) or isinstance(elem, float):\n",
    "            total_sum += elem\n",
    "    return total_sum\n"
   ]
  },
  {
   "cell_type": "code",
   "execution_count": null,
   "metadata": {},
   "outputs": [],
   "source": [
    "'''\n",
    "Напишите функцию sum_prog(q, n), в которой методом рекурсии вычисляется сумма геометрической прогрессии: первое слагаемое равно единице, а каждое следующее получается из предыдущего умножением на определенное число q (передается в качестве аргумента функции, также как и количество слагаемых в сумме n). Функция возвращает вещественное число.\n",
    "'''\n",
    "def sum_prog(q, n):\n",
    "    if n == 1:\n",
    "        return 1.0\n",
    "    else:\n",
    "        return sum_prog(q, n-1) + q**(n-1)\n"
   ]
  },
  {
   "cell_type": "code",
   "execution_count": null,
   "metadata": {},
   "outputs": [],
   "source": [
    "'''\n",
    "Напишите функцию odd_letters(txt), которая методом рекурсии выводит символы через один из текста, переданного аргументом функции, то есть выводится первый, третий, пятый символы и так далее.\n",
    "'''\n",
    "def odd_letters(txt):\n",
    "    if len(txt) == 0:\n",
    "        return ''\n",
    "    else:\n",
    "        return txt[0] + odd_letters(txt[2:])"
   ]
  }
 ],
 "metadata": {
  "language_info": {
   "name": "python"
  },
  "orig_nbformat": 4
 },
 "nbformat": 4,
 "nbformat_minor": 2
}
