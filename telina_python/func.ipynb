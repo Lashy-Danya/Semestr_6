{
 "cells": [
  {
   "cell_type": "code",
   "execution_count": null,
   "metadata": {},
   "outputs": [],
   "source": [
    "'''\n",
    "Напишите функцию sum_sq_odds(lst), которая принимает список, а выдает сумму квадратов нечетных чисел списка. Циклы в решении не использовать. Решить с помощью lambda, map, filter или reduce.\n",
    "'''\n",
    "from functools import reduce\n",
    "\n",
    "def sum_sq_odds(lst):\n",
    "    lst = filter(lambda x: x % 2 != 0, lst)  # фильтруем нечетные числа\n",
    "    lst = map(lambda x: x**2, lst)  # возводим в квадрат\n",
    "    lst = reduce(lambda x, y: x + y, lst, 0)  # суммируем\n",
    "    return lst\n"
   ]
  },
  {
   "cell_type": "code",
   "execution_count": null,
   "metadata": {},
   "outputs": [],
   "source": [
    "'''\n",
    "Напишите функцию modify_list(lst, cutoff), которая принимает список и порог cutoff (положительное число), а выдает список, полученный из значений исходного по правилу:\n",
    "\n",
    "    если значение меньше порога и положительное, то оно увеличивается на 10, \n",
    "    если больше или равно порогу, то остается без изменений, \n",
    "    если отрицательное, то меняется на модуль этого числа.\n",
    "\n",
    "Циклы в решении не использовать. Решить с помощью lambda, map, filter или reduce.\n",
    "'''\n",
    "def modify_list(lst, cutoff):\n",
    "    return list(map(lambda x: x + 10 if x < cutoff and x > 0 else abs(x) if x < 0 else x, lst))\n"
   ]
  },
  {
   "cell_type": "code",
   "execution_count": null,
   "metadata": {},
   "outputs": [],
   "source": [
    "'''\n",
    "Напишите функцию cut_duplicated(word), которая принимает строку и возвращает строку, которая не содержит повторяющихся символов.\n",
    "Циклы в решении не использовать. Решить с помощью lambda, map, filter или reduce.\n",
    "'''\n",
    "from functools import reduce\n",
    "\n",
    "def cut_duplicated(word):\n",
    "    return reduce(lambda x, y: x + y if y not in x else x, word, \"\")"
   ]
  },
  {
   "cell_type": "code",
   "execution_count": 1,
   "metadata": {},
   "outputs": [
    {
     "name": "stdout",
     "output_type": "stream",
     "text": [
      "{'1': 2500.0, '2': 2100.0, '3': 10500.0, '4': 4950.0, '5': 9999.9}\n"
     ]
    }
   ],
   "source": [
    "'''\n",
    "Дан словарь books с информацией о книгах. Ключ словаря - id книги, значение - кортеж, состоящий из названия, автора, количества и стоимости за один экземпляр. Необходимо выдать словарь, ключи которого будут повторять ключи исходного словаря, а значения - это стоимости всех экземпляров каждой книги в рублях с копейками.\n",
    "Циклы в решении не использовать. Решить с помощью lambda, map, filter или reduce.\n",
    "'''\n",
    "books = {\n",
    "    '1': ('Дюна', 'Фрэнк Герберт', 5, 500.00),  \n",
    "    '2': ('Стража! Стража!', 'Терри Пратчетт', 3, 700.00), \n",
    "    '3': ('Темная башня', 'Стивен Кинг', 7, 1500.00),\n",
    "    '4': ('Вещие сестрички', 'Терри Пратчетт', 9, 550.00),\n",
    "    '5': ('Позже', 'Стивен Кинг', 10, 999.99)\n",
    "}\n",
    "\n",
    "def calc_total_cost(book):\n",
    "    return round(book[2] * book[3], 2)\n",
    "\n",
    "total_costs = list(map(calc_total_cost, books.values()))\n",
    "result = dict(zip(books.keys(), total_costs))\n",
    "\n",
    "print(result)"
   ]
  },
  {
   "cell_type": "code",
   "execution_count": 5,
   "metadata": {},
   "outputs": [
    {
     "name": "stdout",
     "output_type": "stream",
     "text": [
      "30049.9\n"
     ]
    }
   ],
   "source": [
    "'''\n",
    "Дан словарь books с информацией о книгах. Ключ словаря - id книги, значение - кортеж, состоящий из названия, автора, количества и стоимости за один экземпляр. Необходимо посчитать стоимость всех книг в словаре. Выдать одно число в рублях с копейками.\n",
    "Циклы в решении не использовать. Решить с помощью lambda, map, filter или reduce.\n",
    "'''\n",
    "from functools import reduce\n",
    "\n",
    "books = {\n",
    "    '1': ('Дюна', 'Фрэнк Герберт', 5, 500.00),  \n",
    "    '2': ('Стража! Стража!', 'Терри Пратчетт', 3, 700.00), \n",
    "    '3': ('Темная башня', 'Стивен Кинг', 7, 1500.00),\n",
    "    '4': ('Вещие сестрички', 'Терри Пратчетт', 9, 550.00),\n",
    "    '5': ('Позже', 'Стивен Кинг', 10, 999.99)\n",
    "}\n",
    "\n",
    "total_cost = reduce(lambda acc, book: acc + book[1][-1] * book[1][-2], books.items(), 0)\n",
    "print(round(total_cost, 2))"
   ]
  }
 ],
 "metadata": {
  "kernelspec": {
   "display_name": "ml",
   "language": "python",
   "name": "python3"
  },
  "language_info": {
   "codemirror_mode": {
    "name": "ipython",
    "version": 3
   },
   "file_extension": ".py",
   "mimetype": "text/x-python",
   "name": "python",
   "nbconvert_exporter": "python",
   "pygments_lexer": "ipython3",
   "version": "3.10.6"
  },
  "orig_nbformat": 4
 },
 "nbformat": 4,
 "nbformat_minor": 2
}
